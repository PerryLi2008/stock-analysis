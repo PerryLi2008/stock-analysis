{
 "cells": [
  {
   "attachments": {},
   "cell_type": "markdown",
   "metadata": {},
   "source": [
    "### Section 1: Preparation"
   ]
  },
  {
   "cell_type": "code",
   "execution_count": 1,
   "metadata": {},
   "outputs": [],
   "source": [
    "##########################################################################################################\n",
    "#\n",
    "#         2023-5 v1: Base version\n",
    "#         2023-5 v2: Calculates all years data of revenue, eps and freeCashFlow based on growth number\n",
    "#         2023-6 v3: Add visualization to view data \n",
    "#\n",
    "##########################################################################################################\n",
    "\n",
    "import pandas as pd\n",
    "import numpy as np\n",
    "from datetime import date\n",
    "\n",
    "import yfinance as yf\n",
    "import fundamentalanalysis as fa\n",
    "\n",
    "import plotly.express as px\n",
    "import plotly.graph_objects as go\n"
   ]
  },
  {
   "cell_type": "code",
   "execution_count": 2,
   "metadata": {},
   "outputs": [],
   "source": [
    "# Input section. Enter ticker, start_date (normally first IPO date) and end_date (normally last year)\n",
    "ticker = 'AAPL'\n",
    "api_key = \"99468a6d827666a6ee01f6788171dc40\"\n",
    "\n",
    "start_date = '1965-01-01'\n",
    "end_date = '2022-12-31'"
   ]
  },
  {
   "cell_type": "code",
   "execution_count": 3,
   "metadata": {},
   "outputs": [],
   "source": [
    "# Write single dataframe to excel sheet\n",
    "def write_a_dataframe_to_excel(df, filename, sheetname):\n",
    "    with pd.ExcelWriter(f'{filename}.xlsx', \n",
    "                        engine='xlsxwriter', \n",
    "                        datetime_format='yyyy') as writer:\n",
    "        workbook = writer.book\n",
    "        worksheet = workbook.add_worksheet(sheetname)\n",
    "        writer.sheets[sheetname] = worksheet\n",
    "\n",
    "        COLUMN = 0\n",
    "        row = 0\n",
    "\n",
    "        worksheet.write_string(row, COLUMN, df.name)\n",
    "        row += 1\n",
    "        df.to_excel(writer, sheet_name=sheetname,\n",
    "                    startrow=row, startcol=COLUMN)\n",
    "        \n",
    "# Automatically write multiple dataframe to excel sheet\n",
    "def write_dataframes_to_excel(dataframes, filename, sheetname):\n",
    "    with pd.ExcelWriter(f'{filename}.xlsx', \n",
    "                        engine='xlsxwriter',\n",
    "                        datetime_format='yyyy') as writer:\n",
    "        workbook = writer.book\n",
    "        worksheet = workbook.add_worksheet(sheetname)\n",
    "        writer.sheets[sheetname] = worksheet\n",
    "\n",
    "        COLUMN = 0\n",
    "        row = 0\n",
    "\n",
    "        for df in dataframes:\n",
    "            worksheet.write_string(row, COLUMN, df.name)\n",
    "            row += 1\n",
    "            df.to_excel(writer, sheet_name=sheetname,\n",
    "                        startrow=row, startcol=COLUMN,\n",
    "                       float_format = '%.2f')\n",
    "            row += df.shape[0] + 2\n",
    "\n",
    "# Apply percentage format to number\n",
    "def percentage_format(x):\n",
    "    if pd.isna(x):\n",
    "        return str(x)\n",
    "    else:\n",
    "        return f\"{x:.2%}\"\n",
    "\n",
    "# Update NaN value of revenue, eps and freeCashFlow based on growth calculation\n",
    "# Reason: FinancialModellingPrep's API only provide 5 years data for free account. But provides all years data for growth.\n",
    "# This function calculates all years data of revenue, eps and freeCashFlow based on growth\n",
    "def update_per_growth(df, rownum):\n",
    "    for col in range(1, len(df.columns)):\n",
    "        if pd.isna(df.iloc[rownum][col]):\n",
    "            df.iloc[rownum, col] = df.iloc[rownum][col-1] / (df.iloc[rownum+1][col-1]+1)\n",
    "            \n",
    "    return df"
   ]
  },
  {
   "cell_type": "code",
   "execution_count": 4,
   "metadata": {},
   "outputs": [
    {
     "name": "stdout",
     "output_type": "stream",
     "text": [
      "[*********************100%***********************]  1 of 1 completed\n",
      "[*********************100%***********************]  1 of 1 completed\n"
     ]
    }
   ],
   "source": [
    "stock = yf.download(ticker, start_date, end_date)      # get stock history data up to last year\n",
    "stock_today = yf.download(ticker, end_date)            # get stock data for current year"
   ]
  },
  {
   "attachments": {},
   "cell_type": "markdown",
   "metadata": {},
   "source": [
    "### Section 2: Get price info"
   ]
  },
  {
   "cell_type": "code",
   "execution_count": 5,
   "metadata": {},
   "outputs": [
    {
     "data": {
      "text/html": [
       "<div>\n",
       "<style scoped>\n",
       "    .dataframe tbody tr th:only-of-type {\n",
       "        vertical-align: middle;\n",
       "    }\n",
       "\n",
       "    .dataframe tbody tr th {\n",
       "        vertical-align: top;\n",
       "    }\n",
       "\n",
       "    .dataframe thead th {\n",
       "        text-align: right;\n",
       "    }\n",
       "</style>\n",
       "<table border=\"1\" class=\"dataframe\">\n",
       "  <thead>\n",
       "    <tr style=\"text-align: right;\">\n",
       "      <th>Date</th>\n",
       "      <th>2023</th>\n",
       "      <th>2022</th>\n",
       "      <th>2021</th>\n",
       "      <th>2020</th>\n",
       "      <th>2019</th>\n",
       "      <th>2018</th>\n",
       "      <th>2017</th>\n",
       "      <th>2016</th>\n",
       "      <th>2015</th>\n",
       "      <th>2014</th>\n",
       "      <th>...</th>\n",
       "      <th>1989</th>\n",
       "      <th>1988</th>\n",
       "      <th>1987</th>\n",
       "      <th>1986</th>\n",
       "      <th>1985</th>\n",
       "      <th>1984</th>\n",
       "      <th>1983</th>\n",
       "      <th>1982</th>\n",
       "      <th>1981</th>\n",
       "      <th>1980</th>\n",
       "    </tr>\n",
       "  </thead>\n",
       "  <tbody>\n",
       "    <tr>\n",
       "      <th>Price</th>\n",
       "      <td>184.919998</td>\n",
       "      <td>129.929993</td>\n",
       "      <td>177.570007</td>\n",
       "      <td>132.690002</td>\n",
       "      <td>73.412498</td>\n",
       "      <td>39.435001</td>\n",
       "      <td>42.307499</td>\n",
       "      <td>28.955</td>\n",
       "      <td>26.315001</td>\n",
       "      <td>27.594999</td>\n",
       "      <td>...</td>\n",
       "      <td>0.314732</td>\n",
       "      <td>0.359375</td>\n",
       "      <td>0.375</td>\n",
       "      <td>0.180804</td>\n",
       "      <td>0.098214</td>\n",
       "      <td>0.130022</td>\n",
       "      <td>0.108817</td>\n",
       "      <td>0.133371</td>\n",
       "      <td>0.098772</td>\n",
       "      <td>0.152344</td>\n",
       "    </tr>\n",
       "    <tr>\n",
       "      <th>PriceGrowth</th>\n",
       "      <td>42.32%</td>\n",
       "      <td>-26.83%</td>\n",
       "      <td>33.82%</td>\n",
       "      <td>80.75%</td>\n",
       "      <td>86.16%</td>\n",
       "      <td>-6.79%</td>\n",
       "      <td>46.11%</td>\n",
       "      <td>10.03%</td>\n",
       "      <td>-4.64%</td>\n",
       "      <td>37.72%</td>\n",
       "      <td>...</td>\n",
       "      <td>-12.42%</td>\n",
       "      <td>-4.17%</td>\n",
       "      <td>107.41%</td>\n",
       "      <td>84.09%</td>\n",
       "      <td>-24.46%</td>\n",
       "      <td>19.49%</td>\n",
       "      <td>-18.41%</td>\n",
       "      <td>35.03%</td>\n",
       "      <td>-35.17%</td>\n",
       "      <td>nan</td>\n",
       "    </tr>\n",
       "  </tbody>\n",
       "</table>\n",
       "<p>2 rows × 44 columns</p>\n",
       "</div>"
      ],
      "text/plain": [
       "Date               2023        2022        2021        2020       2019  \\\n",
       "Price        184.919998  129.929993  177.570007  132.690002  73.412498   \n",
       "PriceGrowth      42.32%     -26.83%      33.82%      80.75%     86.16%   \n",
       "\n",
       "Date              2018       2017    2016       2015       2014  ...  \\\n",
       "Price        39.435001  42.307499  28.955  26.315001  27.594999  ...   \n",
       "PriceGrowth     -6.79%     46.11%  10.03%     -4.64%     37.72%  ...   \n",
       "\n",
       "Date             1989      1988     1987      1986      1985      1984  \\\n",
       "Price        0.314732  0.359375    0.375  0.180804  0.098214  0.130022   \n",
       "PriceGrowth   -12.42%    -4.17%  107.41%    84.09%   -24.46%    19.49%   \n",
       "\n",
       "Date             1983      1982      1981      1980  \n",
       "Price        0.108817  0.133371  0.098772  0.152344  \n",
       "PriceGrowth   -18.41%    35.03%   -35.17%       nan  \n",
       "\n",
       "[2 rows x 44 columns]"
      ]
     },
     "execution_count": 5,
     "metadata": {},
     "output_type": "execute_result"
    }
   ],
   "source": [
    "# Obtain last day in Dec. of each year\n",
    "stock['year'] = stock.index.year\n",
    "stock['month'] = stock.index.month\n",
    "stock['day'] = stock.index.day\n",
    "max_day_of_year = stock.loc[stock.index.month == 12].groupby('year').max()['day']\n",
    "\n",
    "# Get historical stock price per year (year end price)\n",
    "stock_close = stock.loc[(stock.index.month == 12) & (stock.index.day == max_day_of_year[stock.index.year])]\n",
    "# stock_close = pd.concat([stock_close,stock_today])\n",
    "stock_close = pd.concat([stock_close, stock_today.loc[stock_today.iloc[-1].name.strftime(\"%Y-%m-%d\"):]])\n",
    "stock_price = pd.DataFrame()\n",
    "stock_price['Price'] = stock_close['Close']\n",
    "\n",
    "# Formatting\n",
    "stock_price = stock_price.sort_index(ascending=False).transpose()\n",
    "\n",
    "# Get price percentage changes per year\n",
    "returns = pd.DataFrame()\n",
    "returns['PriceGrowth'] = stock_close['Close'].pct_change()\n",
    "\n",
    "# Formatting\n",
    "returns['PriceGrowth'] = returns['PriceGrowth'].apply(lambda x: percentage_format(x))\n",
    "returns = returns.sort_index(ascending=False).transpose()\n",
    "\n",
    "# Combine 2 rows\n",
    "price_info = pd.concat([stock_price, returns])\n",
    "\n",
    "# Change column names from timestamp format to 4 digit year\n",
    "price_info.rename(columns=lambda s: str(s)[:4], inplace=True)\n",
    "price_info"
   ]
  },
  {
   "cell_type": "code",
   "execution_count": 6,
   "metadata": {},
   "outputs": [],
   "source": [
    "# Transpose price_info for line chart ploting\n",
    "price_info_tr = price_info.sort_index(axis=1).transpose()\n",
    "\n",
    "# Convert 'PriceGrowth' to float variable\n",
    "price_info_tr['PriceGrowth'] = price_info_tr['PriceGrowth'].apply(lambda x: 0 if pd.isna(x) else float(x.strip('%'))/100)"
   ]
  },
  {
   "cell_type": "code",
   "execution_count": 7,
   "metadata": {},
   "outputs": [
    {
     "data": {
      "application/vnd.plotly.v1+json": {
       "config": {
        "plotlyServerURL": "https://plot.ly"
       },
       "data": [
        {
         "name": "Price",
         "type": "scatter",
         "x": [
          "1980",
          "1981",
          "1982",
          "1983",
          "1984",
          "1985",
          "1986",
          "1987",
          "1988",
          "1989",
          "1990",
          "1991",
          "1992",
          "1993",
          "1994",
          "1995",
          "1996",
          "1997",
          "1998",
          "1999",
          "2000",
          "2001",
          "2002",
          "2003",
          "2004",
          "2005",
          "2006",
          "2007",
          "2008",
          "2009",
          "2010",
          "2011",
          "2012",
          "2013",
          "2014",
          "2015",
          "2016",
          "2017",
          "2018",
          "2019",
          "2020",
          "2021",
          "2022",
          "2023"
         ],
         "y": [
          0.1523440033197403,
          0.09877199679613113,
          0.1333709955215454,
          0.10881700366735458,
          0.13002200424671173,
          0.09821400046348572,
          0.18080399930477142,
          0.375,
          0.359375,
          0.31473198533058167,
          0.3839290142059326,
          0.5033479928970337,
          0.533482015132904,
          0.2611609995365143,
          0.3482140004634857,
          0.2845979928970337,
          0.18638400733470917,
          0.1171879991889,
          0.36551299691200256,
          0.9179689884185791,
          0.265625,
          0.39107099175453186,
          0.2558929920196533,
          0.3816069960594177,
          1.149999976158142,
          2.567500114440918,
          3.0299999713897705,
          7.074285984039307,
          3.0482139587402344,
          7.526071071624756,
          11.520000457763672,
          14.464285850524902,
          19.006071090698242,
          20.036428451538086,
          27.594999313354492,
          26.315000534057617,
          28.954999923706055,
          42.307498931884766,
          39.435001373291016,
          73.4124984741211,
          132.69000244140625,
          177.57000732421875,
          129.92999267578125,
          184.9199981689453
         ],
         "yaxis": "y"
        },
        {
         "mode": "lines",
         "name": "Price Growth",
         "type": "scatter",
         "x": [
          "1980",
          "1981",
          "1982",
          "1983",
          "1984",
          "1985",
          "1986",
          "1987",
          "1988",
          "1989",
          "1990",
          "1991",
          "1992",
          "1993",
          "1994",
          "1995",
          "1996",
          "1997",
          "1998",
          "1999",
          "2000",
          "2001",
          "2002",
          "2003",
          "2004",
          "2005",
          "2006",
          "2007",
          "2008",
          "2009",
          "2010",
          "2011",
          "2012",
          "2013",
          "2014",
          "2015",
          "2016",
          "2017",
          "2018",
          "2019",
          "2020",
          "2021",
          "2022",
          "2023"
         ],
         "y": [
          null,
          -0.3517,
          0.3503,
          -0.1841,
          0.1949,
          -0.2446,
          0.8409,
          1.0741,
          -0.0417,
          -0.1242,
          0.21989999999999998,
          0.311,
          0.0599,
          -0.5105,
          0.3333,
          -0.1827,
          -0.34509999999999996,
          -0.3713,
          2.119,
          1.5115,
          -0.7106,
          0.47229999999999994,
          -0.3457,
          0.4913,
          2.0136000000000003,
          1.2326000000000001,
          0.1801,
          1.3347,
          -0.5690999999999999,
          1.469,
          0.5307,
          0.2556,
          0.314,
          0.0542,
          0.3772,
          -0.0464,
          0.1003,
          0.4611,
          -0.0679,
          0.8615999999999999,
          0.8075,
          0.3382,
          -0.2683,
          0.4232
         ],
         "yaxis": "y2"
        }
       ],
       "layout": {
        "legend": {
         "traceorder": "normal",
         "x": 0.85,
         "y": 1.2
        },
        "template": {
         "data": {
          "bar": [
           {
            "error_x": {
             "color": "#2a3f5f"
            },
            "error_y": {
             "color": "#2a3f5f"
            },
            "marker": {
             "line": {
              "color": "#E5ECF6",
              "width": 0.5
             },
             "pattern": {
              "fillmode": "overlay",
              "size": 10,
              "solidity": 0.2
             }
            },
            "type": "bar"
           }
          ],
          "barpolar": [
           {
            "marker": {
             "line": {
              "color": "#E5ECF6",
              "width": 0.5
             },
             "pattern": {
              "fillmode": "overlay",
              "size": 10,
              "solidity": 0.2
             }
            },
            "type": "barpolar"
           }
          ],
          "carpet": [
           {
            "aaxis": {
             "endlinecolor": "#2a3f5f",
             "gridcolor": "white",
             "linecolor": "white",
             "minorgridcolor": "white",
             "startlinecolor": "#2a3f5f"
            },
            "baxis": {
             "endlinecolor": "#2a3f5f",
             "gridcolor": "white",
             "linecolor": "white",
             "minorgridcolor": "white",
             "startlinecolor": "#2a3f5f"
            },
            "type": "carpet"
           }
          ],
          "choropleth": [
           {
            "colorbar": {
             "outlinewidth": 0,
             "ticks": ""
            },
            "type": "choropleth"
           }
          ],
          "contour": [
           {
            "colorbar": {
             "outlinewidth": 0,
             "ticks": ""
            },
            "colorscale": [
             [
              0,
              "#0d0887"
             ],
             [
              0.1111111111111111,
              "#46039f"
             ],
             [
              0.2222222222222222,
              "#7201a8"
             ],
             [
              0.3333333333333333,
              "#9c179e"
             ],
             [
              0.4444444444444444,
              "#bd3786"
             ],
             [
              0.5555555555555556,
              "#d8576b"
             ],
             [
              0.6666666666666666,
              "#ed7953"
             ],
             [
              0.7777777777777778,
              "#fb9f3a"
             ],
             [
              0.8888888888888888,
              "#fdca26"
             ],
             [
              1,
              "#f0f921"
             ]
            ],
            "type": "contour"
           }
          ],
          "contourcarpet": [
           {
            "colorbar": {
             "outlinewidth": 0,
             "ticks": ""
            },
            "type": "contourcarpet"
           }
          ],
          "heatmap": [
           {
            "colorbar": {
             "outlinewidth": 0,
             "ticks": ""
            },
            "colorscale": [
             [
              0,
              "#0d0887"
             ],
             [
              0.1111111111111111,
              "#46039f"
             ],
             [
              0.2222222222222222,
              "#7201a8"
             ],
             [
              0.3333333333333333,
              "#9c179e"
             ],
             [
              0.4444444444444444,
              "#bd3786"
             ],
             [
              0.5555555555555556,
              "#d8576b"
             ],
             [
              0.6666666666666666,
              "#ed7953"
             ],
             [
              0.7777777777777778,
              "#fb9f3a"
             ],
             [
              0.8888888888888888,
              "#fdca26"
             ],
             [
              1,
              "#f0f921"
             ]
            ],
            "type": "heatmap"
           }
          ],
          "heatmapgl": [
           {
            "colorbar": {
             "outlinewidth": 0,
             "ticks": ""
            },
            "colorscale": [
             [
              0,
              "#0d0887"
             ],
             [
              0.1111111111111111,
              "#46039f"
             ],
             [
              0.2222222222222222,
              "#7201a8"
             ],
             [
              0.3333333333333333,
              "#9c179e"
             ],
             [
              0.4444444444444444,
              "#bd3786"
             ],
             [
              0.5555555555555556,
              "#d8576b"
             ],
             [
              0.6666666666666666,
              "#ed7953"
             ],
             [
              0.7777777777777778,
              "#fb9f3a"
             ],
             [
              0.8888888888888888,
              "#fdca26"
             ],
             [
              1,
              "#f0f921"
             ]
            ],
            "type": "heatmapgl"
           }
          ],
          "histogram": [
           {
            "marker": {
             "pattern": {
              "fillmode": "overlay",
              "size": 10,
              "solidity": 0.2
             }
            },
            "type": "histogram"
           }
          ],
          "histogram2d": [
           {
            "colorbar": {
             "outlinewidth": 0,
             "ticks": ""
            },
            "colorscale": [
             [
              0,
              "#0d0887"
             ],
             [
              0.1111111111111111,
              "#46039f"
             ],
             [
              0.2222222222222222,
              "#7201a8"
             ],
             [
              0.3333333333333333,
              "#9c179e"
             ],
             [
              0.4444444444444444,
              "#bd3786"
             ],
             [
              0.5555555555555556,
              "#d8576b"
             ],
             [
              0.6666666666666666,
              "#ed7953"
             ],
             [
              0.7777777777777778,
              "#fb9f3a"
             ],
             [
              0.8888888888888888,
              "#fdca26"
             ],
             [
              1,
              "#f0f921"
             ]
            ],
            "type": "histogram2d"
           }
          ],
          "histogram2dcontour": [
           {
            "colorbar": {
             "outlinewidth": 0,
             "ticks": ""
            },
            "colorscale": [
             [
              0,
              "#0d0887"
             ],
             [
              0.1111111111111111,
              "#46039f"
             ],
             [
              0.2222222222222222,
              "#7201a8"
             ],
             [
              0.3333333333333333,
              "#9c179e"
             ],
             [
              0.4444444444444444,
              "#bd3786"
             ],
             [
              0.5555555555555556,
              "#d8576b"
             ],
             [
              0.6666666666666666,
              "#ed7953"
             ],
             [
              0.7777777777777778,
              "#fb9f3a"
             ],
             [
              0.8888888888888888,
              "#fdca26"
             ],
             [
              1,
              "#f0f921"
             ]
            ],
            "type": "histogram2dcontour"
           }
          ],
          "mesh3d": [
           {
            "colorbar": {
             "outlinewidth": 0,
             "ticks": ""
            },
            "type": "mesh3d"
           }
          ],
          "parcoords": [
           {
            "line": {
             "colorbar": {
              "outlinewidth": 0,
              "ticks": ""
             }
            },
            "type": "parcoords"
           }
          ],
          "pie": [
           {
            "automargin": true,
            "type": "pie"
           }
          ],
          "scatter": [
           {
            "fillpattern": {
             "fillmode": "overlay",
             "size": 10,
             "solidity": 0.2
            },
            "type": "scatter"
           }
          ],
          "scatter3d": [
           {
            "line": {
             "colorbar": {
              "outlinewidth": 0,
              "ticks": ""
             }
            },
            "marker": {
             "colorbar": {
              "outlinewidth": 0,
              "ticks": ""
             }
            },
            "type": "scatter3d"
           }
          ],
          "scattercarpet": [
           {
            "marker": {
             "colorbar": {
              "outlinewidth": 0,
              "ticks": ""
             }
            },
            "type": "scattercarpet"
           }
          ],
          "scattergeo": [
           {
            "marker": {
             "colorbar": {
              "outlinewidth": 0,
              "ticks": ""
             }
            },
            "type": "scattergeo"
           }
          ],
          "scattergl": [
           {
            "marker": {
             "colorbar": {
              "outlinewidth": 0,
              "ticks": ""
             }
            },
            "type": "scattergl"
           }
          ],
          "scattermapbox": [
           {
            "marker": {
             "colorbar": {
              "outlinewidth": 0,
              "ticks": ""
             }
            },
            "type": "scattermapbox"
           }
          ],
          "scatterpolar": [
           {
            "marker": {
             "colorbar": {
              "outlinewidth": 0,
              "ticks": ""
             }
            },
            "type": "scatterpolar"
           }
          ],
          "scatterpolargl": [
           {
            "marker": {
             "colorbar": {
              "outlinewidth": 0,
              "ticks": ""
             }
            },
            "type": "scatterpolargl"
           }
          ],
          "scatterternary": [
           {
            "marker": {
             "colorbar": {
              "outlinewidth": 0,
              "ticks": ""
             }
            },
            "type": "scatterternary"
           }
          ],
          "surface": [
           {
            "colorbar": {
             "outlinewidth": 0,
             "ticks": ""
            },
            "colorscale": [
             [
              0,
              "#0d0887"
             ],
             [
              0.1111111111111111,
              "#46039f"
             ],
             [
              0.2222222222222222,
              "#7201a8"
             ],
             [
              0.3333333333333333,
              "#9c179e"
             ],
             [
              0.4444444444444444,
              "#bd3786"
             ],
             [
              0.5555555555555556,
              "#d8576b"
             ],
             [
              0.6666666666666666,
              "#ed7953"
             ],
             [
              0.7777777777777778,
              "#fb9f3a"
             ],
             [
              0.8888888888888888,
              "#fdca26"
             ],
             [
              1,
              "#f0f921"
             ]
            ],
            "type": "surface"
           }
          ],
          "table": [
           {
            "cells": {
             "fill": {
              "color": "#EBF0F8"
             },
             "line": {
              "color": "white"
             }
            },
            "header": {
             "fill": {
              "color": "#C8D4E3"
             },
             "line": {
              "color": "white"
             }
            },
            "type": "table"
           }
          ]
         },
         "layout": {
          "annotationdefaults": {
           "arrowcolor": "#2a3f5f",
           "arrowhead": 0,
           "arrowwidth": 1
          },
          "autotypenumbers": "strict",
          "coloraxis": {
           "colorbar": {
            "outlinewidth": 0,
            "ticks": ""
           }
          },
          "colorscale": {
           "diverging": [
            [
             0,
             "#8e0152"
            ],
            [
             0.1,
             "#c51b7d"
            ],
            [
             0.2,
             "#de77ae"
            ],
            [
             0.3,
             "#f1b6da"
            ],
            [
             0.4,
             "#fde0ef"
            ],
            [
             0.5,
             "#f7f7f7"
            ],
            [
             0.6,
             "#e6f5d0"
            ],
            [
             0.7,
             "#b8e186"
            ],
            [
             0.8,
             "#7fbc41"
            ],
            [
             0.9,
             "#4d9221"
            ],
            [
             1,
             "#276419"
            ]
           ],
           "sequential": [
            [
             0,
             "#0d0887"
            ],
            [
             0.1111111111111111,
             "#46039f"
            ],
            [
             0.2222222222222222,
             "#7201a8"
            ],
            [
             0.3333333333333333,
             "#9c179e"
            ],
            [
             0.4444444444444444,
             "#bd3786"
            ],
            [
             0.5555555555555556,
             "#d8576b"
            ],
            [
             0.6666666666666666,
             "#ed7953"
            ],
            [
             0.7777777777777778,
             "#fb9f3a"
            ],
            [
             0.8888888888888888,
             "#fdca26"
            ],
            [
             1,
             "#f0f921"
            ]
           ],
           "sequentialminus": [
            [
             0,
             "#0d0887"
            ],
            [
             0.1111111111111111,
             "#46039f"
            ],
            [
             0.2222222222222222,
             "#7201a8"
            ],
            [
             0.3333333333333333,
             "#9c179e"
            ],
            [
             0.4444444444444444,
             "#bd3786"
            ],
            [
             0.5555555555555556,
             "#d8576b"
            ],
            [
             0.6666666666666666,
             "#ed7953"
            ],
            [
             0.7777777777777778,
             "#fb9f3a"
            ],
            [
             0.8888888888888888,
             "#fdca26"
            ],
            [
             1,
             "#f0f921"
            ]
           ]
          },
          "colorway": [
           "#636efa",
           "#EF553B",
           "#00cc96",
           "#ab63fa",
           "#FFA15A",
           "#19d3f3",
           "#FF6692",
           "#B6E880",
           "#FF97FF",
           "#FECB52"
          ],
          "font": {
           "color": "#2a3f5f"
          },
          "geo": {
           "bgcolor": "white",
           "lakecolor": "white",
           "landcolor": "#E5ECF6",
           "showlakes": true,
           "showland": true,
           "subunitcolor": "white"
          },
          "hoverlabel": {
           "align": "left"
          },
          "hovermode": "closest",
          "mapbox": {
           "style": "light"
          },
          "paper_bgcolor": "white",
          "plot_bgcolor": "#E5ECF6",
          "polar": {
           "angularaxis": {
            "gridcolor": "white",
            "linecolor": "white",
            "ticks": ""
           },
           "bgcolor": "#E5ECF6",
           "radialaxis": {
            "gridcolor": "white",
            "linecolor": "white",
            "ticks": ""
           }
          },
          "scene": {
           "xaxis": {
            "backgroundcolor": "#E5ECF6",
            "gridcolor": "white",
            "gridwidth": 2,
            "linecolor": "white",
            "showbackground": true,
            "ticks": "",
            "zerolinecolor": "white"
           },
           "yaxis": {
            "backgroundcolor": "#E5ECF6",
            "gridcolor": "white",
            "gridwidth": 2,
            "linecolor": "white",
            "showbackground": true,
            "ticks": "",
            "zerolinecolor": "white"
           },
           "zaxis": {
            "backgroundcolor": "#E5ECF6",
            "gridcolor": "white",
            "gridwidth": 2,
            "linecolor": "white",
            "showbackground": true,
            "ticks": "",
            "zerolinecolor": "white"
           }
          },
          "shapedefaults": {
           "line": {
            "color": "#2a3f5f"
           }
          },
          "ternary": {
           "aaxis": {
            "gridcolor": "white",
            "linecolor": "white",
            "ticks": ""
           },
           "baxis": {
            "gridcolor": "white",
            "linecolor": "white",
            "ticks": ""
           },
           "bgcolor": "#E5ECF6",
           "caxis": {
            "gridcolor": "white",
            "linecolor": "white",
            "ticks": ""
           }
          },
          "title": {
           "x": 0.05
          },
          "xaxis": {
           "automargin": true,
           "gridcolor": "white",
           "linecolor": "white",
           "ticks": "",
           "title": {
            "standoff": 15
           },
           "zerolinecolor": "white",
           "zerolinewidth": 2
          },
          "yaxis": {
           "automargin": true,
           "gridcolor": "white",
           "linecolor": "white",
           "ticks": "",
           "title": {
            "standoff": 15
           },
           "zerolinecolor": "white",
           "zerolinewidth": 2
          }
         }
        },
        "title": {
         "text": "AAPL stock Price and Price Growth"
        },
        "width": 1000,
        "yaxis": {
         "title": {
          "text": "Price"
         }
        },
        "yaxis2": {
         "overlaying": "y",
         "side": "right",
         "tickformat": ",.0%",
         "title": {
          "text": "Price Growth"
         }
        }
       }
      }
     },
     "metadata": {},
     "output_type": "display_data"
    }
   ],
   "source": [
    "# Plot line chart for Price & Price Growth using graph_objects\n",
    "fig = go.Figure()\n",
    "\n",
    "# Add Price trace\n",
    "fig.add_trace(go.Scatter(\n",
    "    x=price_info_tr.index.values, y=price_info_tr['Price'],\n",
    "    name='Price', yaxis='y'\n",
    "))\n",
    "\n",
    "# Add PriceGrowth trace\n",
    "fig.add_trace(go.Scatter(\n",
    "    x=price_info_tr.index.values, y=price_info_tr['PriceGrowth'],\n",
    "    name='Price Growth', mode='lines', yaxis='y2'\n",
    "))\n",
    "\n",
    "# Update layout\n",
    "fig.update_layout(\n",
    "    title=ticker + ' stock Price and Price Growth',\n",
    "    width=1000,\n",
    "    yaxis=dict(title='Price'),\n",
    "    yaxis2=dict(title='Price Growth', overlaying='y', side='right', tickformat = \",.0%\"),\n",
    "    legend=dict(x=0.85, y=1.2, traceorder='normal')\n",
    ")\n",
    "\n",
    "# Show the fig & export chart\n",
    "fig.show()\n",
    "fig.write_image(\"images/\" + ticker + \" price chart.png\")"
   ]
  },
  {
   "attachments": {},
   "cell_type": "markdown",
   "metadata": {},
   "source": [
    "### Section 3: Bring all finanical data needed for instrinsic value calculation"
   ]
  },
  {
   "cell_type": "code",
   "execution_count": 8,
   "metadata": {},
   "outputs": [],
   "source": [
    "# Loan other finanical data\n",
    "income_statement_annually = fa.income_statement(ticker, api_key, period=\"annual\")\n",
    "cash_flow_statement_annually = fa.cash_flow_statement(ticker, api_key, period=\"annual\")\n",
    "growth_annually = fa.financial_statement_growth(ticker, api_key, period=\"annual\")\n",
    "key_metrics_annually = fa.key_metrics(ticker, api_key, period=\"annual\")\n",
    "# dcf_annually = fa.discounted_cash_flow(ticker, api_key, period=\"annual\")\n",
    "entreprise_value = fa.enterprise(ticker, api_key)\n",
    "balance_sheet_annually = fa.balance_sheet_statement(ticker, api_key, period=\"annual\")\n",
    "\n",
    "# Store financial data in results\n",
    "results = pd.DataFrame()\n",
    "results = pd.concat([income_statement_annually.loc['revenue'],\n",
    "                     growth_annually.loc['revenueGrowth'], \n",
    "                     income_statement_annually.loc['netIncome'],\n",
    "                     income_statement_annually.loc['eps'],\n",
    "                     growth_annually.loc['epsgrowth'],\n",
    "                     key_metrics_annually.loc['bookValuePerShare'],\n",
    "                     growth_annually.loc['bookValueperShareGrowth'],\n",
    "                     cash_flow_statement_annually.loc['freeCashFlow'],\n",
    "                     growth_annually.loc['freeCashFlowGrowth'],\n",
    "                     key_metrics_annually.loc['freeCashFlowPerShare'],                     \n",
    "                     key_metrics_annually.loc['marketCap'],\n",
    "                     key_metrics_annually.loc['enterpriseValue'],\n",
    "                     key_metrics_annually.loc['peRatio'],\n",
    "                     key_metrics_annually.loc['pbRatio'],\n",
    "                     key_metrics_annually.loc['roe'],\n",
    "                     balance_sheet_annually.loc['cashAndShortTermInvestments'],\n",
    "                     balance_sheet_annually.loc['totalDebt'],\n",
    "                     entreprise_value.loc['numberOfShares']\n",
    "#                      dcf_annually.loc['DCF']\n",
    "                    ], axis=1)\n",
    "\n",
    "# Function to calculate eeRatio = enterpriseValue/netIncome\n",
    "def calc_eeRatio(df):\n",
    "    df['eeRatio'] = df['enterpriseValue'] / df['netIncome']\n",
    "    return df\n",
    "\n",
    "# Update eeRatio\n",
    "results.rename({'pbRatio': 'eeRatio'}, axis='columns', inplace=True)\n",
    "results = calc_eeRatio(results).transpose()\n",
    "\n",
    "# results = results.transpose()\n",
    "results = pd.concat([price_info, results])\n",
    "\n",
    "# Format decimal fields format as percentage\n",
    "results.loc['revenueGrowth'] = results.loc['revenueGrowth'].apply(lambda x: percentage_format(x))\n",
    "results.loc['epsgrowth'] = results.loc['epsgrowth'].apply(lambda x: percentage_format(x))\n",
    "results.loc['bookValueperShareGrowth'] = results.loc['bookValueperShareGrowth'].apply(lambda x: percentage_format(x))\n",
    "results.loc['freeCashFlowGrowth'] = results.loc['freeCashFlowGrowth'].apply(lambda x: percentage_format(x))\n",
    "results.loc['roe'] = results.loc['roe'].apply(lambda x: percentage_format(x))"
   ]
  },
  {
   "cell_type": "code",
   "execution_count": 9,
   "metadata": {},
   "outputs": [],
   "source": [
    "# Data Preparation for plotly charts\n",
    "# Transpose price_info for line chart ploting\n",
    "results_tr = results.sort_index(axis=1).transpose()\n",
    "\n",
    "# Convert PriceGrowth/revenueGrowth/epsgrowth/freeCashFlowGrowth to float variable\n",
    "results_tr['PriceGrowth'] = results_tr['PriceGrowth'].apply(lambda x: float(x) if pd.isna(x) else float(x.strip('%'))/100)\n",
    "results_tr['revenueGrowth'] = results_tr['revenueGrowth'].apply(lambda x: float(x) if pd.isna(x) else float(x.strip('%'))/100)\n",
    "results_tr['epsgrowth'] = results_tr['epsgrowth'].apply(lambda x: float(x) if pd.isna(x) else float(x.strip('%'))/100)\n",
    "results_tr['freeCashFlowGrowth'] = results_tr['freeCashFlowGrowth'].apply(lambda x: float(x) if pd.isna(x) else float(x.strip('%'))/100)"
   ]
  },
  {
   "cell_type": "code",
   "execution_count": 10,
   "metadata": {},
   "outputs": [
    {
     "data": {
      "application/vnd.plotly.v1+json": {
       "config": {
        "plotlyServerURL": "https://plot.ly"
       },
       "data": [
        {
         "name": "PriceGrowth",
         "type": "scatter",
         "x": [
          "1980",
          "1981",
          "1982",
          "1983",
          "1984",
          "1985",
          "1986",
          "1987",
          "1988",
          "1989",
          "1990",
          "1991",
          "1992",
          "1993",
          "1994",
          "1995",
          "1996",
          "1997",
          "1998",
          "1999",
          "2000",
          "2001",
          "2002",
          "2003",
          "2004",
          "2005",
          "2006",
          "2007",
          "2008",
          "2009",
          "2010",
          "2011",
          "2012",
          "2013",
          "2014",
          "2015",
          "2016",
          "2017",
          "2018",
          "2019",
          "2020",
          "2021",
          "2022",
          "2023"
         ],
         "y": [
          null,
          -0.3517,
          0.3503,
          -0.1841,
          0.1949,
          -0.2446,
          0.8409,
          1.0741,
          -0.0417,
          -0.1242,
          0.21989999999999998,
          0.311,
          0.0599,
          -0.5105,
          0.3333,
          -0.1827,
          -0.34509999999999996,
          -0.3713,
          2.119,
          1.5115,
          -0.7106,
          0.47229999999999994,
          -0.3457,
          0.4913,
          2.0136000000000003,
          1.2326000000000001,
          0.1801,
          1.3347,
          -0.5690999999999999,
          1.469,
          0.5307,
          0.2556,
          0.314,
          0.0542,
          0.3772,
          -0.0464,
          0.1003,
          0.4611,
          -0.0679,
          0.8615999999999999,
          0.8075,
          0.3382,
          -0.2683,
          0.4232
         ],
         "yaxis": "y"
        },
        {
         "name": "revenueGrowth",
         "type": "scatter",
         "x": [
          "1980",
          "1981",
          "1982",
          "1983",
          "1984",
          "1985",
          "1986",
          "1987",
          "1988",
          "1989",
          "1990",
          "1991",
          "1992",
          "1993",
          "1994",
          "1995",
          "1996",
          "1997",
          "1998",
          "1999",
          "2000",
          "2001",
          "2002",
          "2003",
          "2004",
          "2005",
          "2006",
          "2007",
          "2008",
          "2009",
          "2010",
          "2011",
          "2012",
          "2013",
          "2014",
          "2015",
          "2016",
          "2017",
          "2018",
          "2019",
          "2020",
          "2021",
          "2022",
          "2023"
         ],
         "y": [
          null,
          null,
          null,
          null,
          null,
          0,
          -0.0085,
          0.3992,
          0.53,
          0.2978,
          0.0519,
          0.135,
          0.1233,
          0.1257,
          0.1519,
          0.2039,
          -0.11109999999999999,
          -0.2799,
          -0.161,
          0.0325,
          0.3014,
          -0.3282,
          0.0707,
          0.081,
          0.33380000000000004,
          0.6827,
          0.3865,
          0.2429,
          0.353,
          0.1249,
          0.7852,
          0.6596,
          0.4458,
          0.092,
          0.0695,
          0.2786,
          -0.07730000000000001,
          0.063,
          0.1586,
          -0.0204,
          0.055099999999999996,
          0.3326,
          0.0779,
          null
         ],
         "yaxis": "y"
        },
        {
         "name": "epsgrowth",
         "type": "scatter",
         "x": [
          "1980",
          "1981",
          "1982",
          "1983",
          "1984",
          "1985",
          "1986",
          "1987",
          "1988",
          "1989",
          "1990",
          "1991",
          "1992",
          "1993",
          "1994",
          "1995",
          "1996",
          "1997",
          "1998",
          "1999",
          "2000",
          "2001",
          "2002",
          "2003",
          "2004",
          "2005",
          "2006",
          "2007",
          "2008",
          "2009",
          "2010",
          "2011",
          "2012",
          "2013",
          "2014",
          "2015",
          "2016",
          "2017",
          "2018",
          "2019",
          "2020",
          "2021",
          "2022",
          "2023"
         ],
         "y": [
          null,
          null,
          null,
          null,
          null,
          0,
          1.3778,
          0.3832,
          0.8581,
          0.1491,
          0.0696,
          -0.3195,
          0.6826000000000001,
          -0.8320000000000001,
          2.5846,
          0.32189999999999996,
          -2.9123,
          -0.5942000000000001,
          1.2226000000000001,
          0.7943000000000001,
          0.152,
          -1.044,
          2.6842,
          0.125,
          2.5833,
          3.5425999999999997,
          0.4386,
          0.6607,
          0.4286,
          0.15,
          1.3913,
          0.8181999999999999,
          0.59,
          -0.10060000000000001,
          0.1329,
          0.4321,
          -0.09910000000000001,
          0.11,
          0.29309999999999997,
          -0.0033,
          0.107,
          0.713,
          0.08470000000000001,
          null
         ],
         "yaxis": "y"
        },
        {
         "name": "freeCashFlowGrowth",
         "type": "scatter",
         "x": [
          "1980",
          "1981",
          "1982",
          "1983",
          "1984",
          "1985",
          "1986",
          "1987",
          "1988",
          "1989",
          "1990",
          "1991",
          "1992",
          "1993",
          "1994",
          "1995",
          "1996",
          "1997",
          "1998",
          "1999",
          "2000",
          "2001",
          "2002",
          "2003",
          "2004",
          "2005",
          "2006",
          "2007",
          "2008",
          "2009",
          "2010",
          "2011",
          "2012",
          "2013",
          "2014",
          "2015",
          "2016",
          "2017",
          "2018",
          "2019",
          "2020",
          "2021",
          "2022",
          "2023"
         ],
         "y": [
          null,
          null,
          null,
          null,
          null,
          0,
          0,
          0,
          0,
          0,
          1.7566,
          -1.1211,
          8.6875,
          -2.2702,
          1.66,
          -1.6909999999999998,
          2.1328,
          -0.7012999999999999,
          4.3259,
          0.044500000000000005,
          -0.0426,
          -1.0654000000000001,
          -0.8085,
          2.4706,
          5.064,
          2.0013,
          -0.313,
          1.8688,
          0.8726999999999999,
          0.0654,
          0.8415,
          0.8256999999999999,
          0.37829999999999997,
          0.0757,
          0.1191,
          0.39840000000000003,
          -0.25079999999999997,
          -0.0282,
          0.2621,
          -0.0815,
          0.2457,
          0.267,
          0.1989,
          null
         ],
         "yaxis": "y2"
        }
       ],
       "layout": {
        "legend": {
         "traceorder": "normal",
         "x": 0.78,
         "y": 1.32
        },
        "template": {
         "data": {
          "bar": [
           {
            "error_x": {
             "color": "#2a3f5f"
            },
            "error_y": {
             "color": "#2a3f5f"
            },
            "marker": {
             "line": {
              "color": "#E5ECF6",
              "width": 0.5
             },
             "pattern": {
              "fillmode": "overlay",
              "size": 10,
              "solidity": 0.2
             }
            },
            "type": "bar"
           }
          ],
          "barpolar": [
           {
            "marker": {
             "line": {
              "color": "#E5ECF6",
              "width": 0.5
             },
             "pattern": {
              "fillmode": "overlay",
              "size": 10,
              "solidity": 0.2
             }
            },
            "type": "barpolar"
           }
          ],
          "carpet": [
           {
            "aaxis": {
             "endlinecolor": "#2a3f5f",
             "gridcolor": "white",
             "linecolor": "white",
             "minorgridcolor": "white",
             "startlinecolor": "#2a3f5f"
            },
            "baxis": {
             "endlinecolor": "#2a3f5f",
             "gridcolor": "white",
             "linecolor": "white",
             "minorgridcolor": "white",
             "startlinecolor": "#2a3f5f"
            },
            "type": "carpet"
           }
          ],
          "choropleth": [
           {
            "colorbar": {
             "outlinewidth": 0,
             "ticks": ""
            },
            "type": "choropleth"
           }
          ],
          "contour": [
           {
            "colorbar": {
             "outlinewidth": 0,
             "ticks": ""
            },
            "colorscale": [
             [
              0,
              "#0d0887"
             ],
             [
              0.1111111111111111,
              "#46039f"
             ],
             [
              0.2222222222222222,
              "#7201a8"
             ],
             [
              0.3333333333333333,
              "#9c179e"
             ],
             [
              0.4444444444444444,
              "#bd3786"
             ],
             [
              0.5555555555555556,
              "#d8576b"
             ],
             [
              0.6666666666666666,
              "#ed7953"
             ],
             [
              0.7777777777777778,
              "#fb9f3a"
             ],
             [
              0.8888888888888888,
              "#fdca26"
             ],
             [
              1,
              "#f0f921"
             ]
            ],
            "type": "contour"
           }
          ],
          "contourcarpet": [
           {
            "colorbar": {
             "outlinewidth": 0,
             "ticks": ""
            },
            "type": "contourcarpet"
           }
          ],
          "heatmap": [
           {
            "colorbar": {
             "outlinewidth": 0,
             "ticks": ""
            },
            "colorscale": [
             [
              0,
              "#0d0887"
             ],
             [
              0.1111111111111111,
              "#46039f"
             ],
             [
              0.2222222222222222,
              "#7201a8"
             ],
             [
              0.3333333333333333,
              "#9c179e"
             ],
             [
              0.4444444444444444,
              "#bd3786"
             ],
             [
              0.5555555555555556,
              "#d8576b"
             ],
             [
              0.6666666666666666,
              "#ed7953"
             ],
             [
              0.7777777777777778,
              "#fb9f3a"
             ],
             [
              0.8888888888888888,
              "#fdca26"
             ],
             [
              1,
              "#f0f921"
             ]
            ],
            "type": "heatmap"
           }
          ],
          "heatmapgl": [
           {
            "colorbar": {
             "outlinewidth": 0,
             "ticks": ""
            },
            "colorscale": [
             [
              0,
              "#0d0887"
             ],
             [
              0.1111111111111111,
              "#46039f"
             ],
             [
              0.2222222222222222,
              "#7201a8"
             ],
             [
              0.3333333333333333,
              "#9c179e"
             ],
             [
              0.4444444444444444,
              "#bd3786"
             ],
             [
              0.5555555555555556,
              "#d8576b"
             ],
             [
              0.6666666666666666,
              "#ed7953"
             ],
             [
              0.7777777777777778,
              "#fb9f3a"
             ],
             [
              0.8888888888888888,
              "#fdca26"
             ],
             [
              1,
              "#f0f921"
             ]
            ],
            "type": "heatmapgl"
           }
          ],
          "histogram": [
           {
            "marker": {
             "pattern": {
              "fillmode": "overlay",
              "size": 10,
              "solidity": 0.2
             }
            },
            "type": "histogram"
           }
          ],
          "histogram2d": [
           {
            "colorbar": {
             "outlinewidth": 0,
             "ticks": ""
            },
            "colorscale": [
             [
              0,
              "#0d0887"
             ],
             [
              0.1111111111111111,
              "#46039f"
             ],
             [
              0.2222222222222222,
              "#7201a8"
             ],
             [
              0.3333333333333333,
              "#9c179e"
             ],
             [
              0.4444444444444444,
              "#bd3786"
             ],
             [
              0.5555555555555556,
              "#d8576b"
             ],
             [
              0.6666666666666666,
              "#ed7953"
             ],
             [
              0.7777777777777778,
              "#fb9f3a"
             ],
             [
              0.8888888888888888,
              "#fdca26"
             ],
             [
              1,
              "#f0f921"
             ]
            ],
            "type": "histogram2d"
           }
          ],
          "histogram2dcontour": [
           {
            "colorbar": {
             "outlinewidth": 0,
             "ticks": ""
            },
            "colorscale": [
             [
              0,
              "#0d0887"
             ],
             [
              0.1111111111111111,
              "#46039f"
             ],
             [
              0.2222222222222222,
              "#7201a8"
             ],
             [
              0.3333333333333333,
              "#9c179e"
             ],
             [
              0.4444444444444444,
              "#bd3786"
             ],
             [
              0.5555555555555556,
              "#d8576b"
             ],
             [
              0.6666666666666666,
              "#ed7953"
             ],
             [
              0.7777777777777778,
              "#fb9f3a"
             ],
             [
              0.8888888888888888,
              "#fdca26"
             ],
             [
              1,
              "#f0f921"
             ]
            ],
            "type": "histogram2dcontour"
           }
          ],
          "mesh3d": [
           {
            "colorbar": {
             "outlinewidth": 0,
             "ticks": ""
            },
            "type": "mesh3d"
           }
          ],
          "parcoords": [
           {
            "line": {
             "colorbar": {
              "outlinewidth": 0,
              "ticks": ""
             }
            },
            "type": "parcoords"
           }
          ],
          "pie": [
           {
            "automargin": true,
            "type": "pie"
           }
          ],
          "scatter": [
           {
            "fillpattern": {
             "fillmode": "overlay",
             "size": 10,
             "solidity": 0.2
            },
            "type": "scatter"
           }
          ],
          "scatter3d": [
           {
            "line": {
             "colorbar": {
              "outlinewidth": 0,
              "ticks": ""
             }
            },
            "marker": {
             "colorbar": {
              "outlinewidth": 0,
              "ticks": ""
             }
            },
            "type": "scatter3d"
           }
          ],
          "scattercarpet": [
           {
            "marker": {
             "colorbar": {
              "outlinewidth": 0,
              "ticks": ""
             }
            },
            "type": "scattercarpet"
           }
          ],
          "scattergeo": [
           {
            "marker": {
             "colorbar": {
              "outlinewidth": 0,
              "ticks": ""
             }
            },
            "type": "scattergeo"
           }
          ],
          "scattergl": [
           {
            "marker": {
             "colorbar": {
              "outlinewidth": 0,
              "ticks": ""
             }
            },
            "type": "scattergl"
           }
          ],
          "scattermapbox": [
           {
            "marker": {
             "colorbar": {
              "outlinewidth": 0,
              "ticks": ""
             }
            },
            "type": "scattermapbox"
           }
          ],
          "scatterpolar": [
           {
            "marker": {
             "colorbar": {
              "outlinewidth": 0,
              "ticks": ""
             }
            },
            "type": "scatterpolar"
           }
          ],
          "scatterpolargl": [
           {
            "marker": {
             "colorbar": {
              "outlinewidth": 0,
              "ticks": ""
             }
            },
            "type": "scatterpolargl"
           }
          ],
          "scatterternary": [
           {
            "marker": {
             "colorbar": {
              "outlinewidth": 0,
              "ticks": ""
             }
            },
            "type": "scatterternary"
           }
          ],
          "surface": [
           {
            "colorbar": {
             "outlinewidth": 0,
             "ticks": ""
            },
            "colorscale": [
             [
              0,
              "#0d0887"
             ],
             [
              0.1111111111111111,
              "#46039f"
             ],
             [
              0.2222222222222222,
              "#7201a8"
             ],
             [
              0.3333333333333333,
              "#9c179e"
             ],
             [
              0.4444444444444444,
              "#bd3786"
             ],
             [
              0.5555555555555556,
              "#d8576b"
             ],
             [
              0.6666666666666666,
              "#ed7953"
             ],
             [
              0.7777777777777778,
              "#fb9f3a"
             ],
             [
              0.8888888888888888,
              "#fdca26"
             ],
             [
              1,
              "#f0f921"
             ]
            ],
            "type": "surface"
           }
          ],
          "table": [
           {
            "cells": {
             "fill": {
              "color": "#EBF0F8"
             },
             "line": {
              "color": "white"
             }
            },
            "header": {
             "fill": {
              "color": "#C8D4E3"
             },
             "line": {
              "color": "white"
             }
            },
            "type": "table"
           }
          ]
         },
         "layout": {
          "annotationdefaults": {
           "arrowcolor": "#2a3f5f",
           "arrowhead": 0,
           "arrowwidth": 1
          },
          "autotypenumbers": "strict",
          "coloraxis": {
           "colorbar": {
            "outlinewidth": 0,
            "ticks": ""
           }
          },
          "colorscale": {
           "diverging": [
            [
             0,
             "#8e0152"
            ],
            [
             0.1,
             "#c51b7d"
            ],
            [
             0.2,
             "#de77ae"
            ],
            [
             0.3,
             "#f1b6da"
            ],
            [
             0.4,
             "#fde0ef"
            ],
            [
             0.5,
             "#f7f7f7"
            ],
            [
             0.6,
             "#e6f5d0"
            ],
            [
             0.7,
             "#b8e186"
            ],
            [
             0.8,
             "#7fbc41"
            ],
            [
             0.9,
             "#4d9221"
            ],
            [
             1,
             "#276419"
            ]
           ],
           "sequential": [
            [
             0,
             "#0d0887"
            ],
            [
             0.1111111111111111,
             "#46039f"
            ],
            [
             0.2222222222222222,
             "#7201a8"
            ],
            [
             0.3333333333333333,
             "#9c179e"
            ],
            [
             0.4444444444444444,
             "#bd3786"
            ],
            [
             0.5555555555555556,
             "#d8576b"
            ],
            [
             0.6666666666666666,
             "#ed7953"
            ],
            [
             0.7777777777777778,
             "#fb9f3a"
            ],
            [
             0.8888888888888888,
             "#fdca26"
            ],
            [
             1,
             "#f0f921"
            ]
           ],
           "sequentialminus": [
            [
             0,
             "#0d0887"
            ],
            [
             0.1111111111111111,
             "#46039f"
            ],
            [
             0.2222222222222222,
             "#7201a8"
            ],
            [
             0.3333333333333333,
             "#9c179e"
            ],
            [
             0.4444444444444444,
             "#bd3786"
            ],
            [
             0.5555555555555556,
             "#d8576b"
            ],
            [
             0.6666666666666666,
             "#ed7953"
            ],
            [
             0.7777777777777778,
             "#fb9f3a"
            ],
            [
             0.8888888888888888,
             "#fdca26"
            ],
            [
             1,
             "#f0f921"
            ]
           ]
          },
          "colorway": [
           "#636efa",
           "#EF553B",
           "#00cc96",
           "#ab63fa",
           "#FFA15A",
           "#19d3f3",
           "#FF6692",
           "#B6E880",
           "#FF97FF",
           "#FECB52"
          ],
          "font": {
           "color": "#2a3f5f"
          },
          "geo": {
           "bgcolor": "white",
           "lakecolor": "white",
           "landcolor": "#E5ECF6",
           "showlakes": true,
           "showland": true,
           "subunitcolor": "white"
          },
          "hoverlabel": {
           "align": "left"
          },
          "hovermode": "closest",
          "mapbox": {
           "style": "light"
          },
          "paper_bgcolor": "white",
          "plot_bgcolor": "#E5ECF6",
          "polar": {
           "angularaxis": {
            "gridcolor": "white",
            "linecolor": "white",
            "ticks": ""
           },
           "bgcolor": "#E5ECF6",
           "radialaxis": {
            "gridcolor": "white",
            "linecolor": "white",
            "ticks": ""
           }
          },
          "scene": {
           "xaxis": {
            "backgroundcolor": "#E5ECF6",
            "gridcolor": "white",
            "gridwidth": 2,
            "linecolor": "white",
            "showbackground": true,
            "ticks": "",
            "zerolinecolor": "white"
           },
           "yaxis": {
            "backgroundcolor": "#E5ECF6",
            "gridcolor": "white",
            "gridwidth": 2,
            "linecolor": "white",
            "showbackground": true,
            "ticks": "",
            "zerolinecolor": "white"
           },
           "zaxis": {
            "backgroundcolor": "#E5ECF6",
            "gridcolor": "white",
            "gridwidth": 2,
            "linecolor": "white",
            "showbackground": true,
            "ticks": "",
            "zerolinecolor": "white"
           }
          },
          "shapedefaults": {
           "line": {
            "color": "#2a3f5f"
           }
          },
          "ternary": {
           "aaxis": {
            "gridcolor": "white",
            "linecolor": "white",
            "ticks": ""
           },
           "baxis": {
            "gridcolor": "white",
            "linecolor": "white",
            "ticks": ""
           },
           "bgcolor": "#E5ECF6",
           "caxis": {
            "gridcolor": "white",
            "linecolor": "white",
            "ticks": ""
           }
          },
          "title": {
           "x": 0.05
          },
          "xaxis": {
           "automargin": true,
           "gridcolor": "white",
           "linecolor": "white",
           "ticks": "",
           "title": {
            "standoff": 15
           },
           "zerolinecolor": "white",
           "zerolinewidth": 2
          },
          "yaxis": {
           "automargin": true,
           "gridcolor": "white",
           "linecolor": "white",
           "ticks": "",
           "title": {
            "standoff": 15
           },
           "zerolinecolor": "white",
           "zerolinewidth": 2
          }
         }
        },
        "title": {
         "text": "AAPL stock Growth"
        },
        "width": 1000,
        "yaxis": {
         "tickformat": ",.0%",
         "title": {
          "text": "Price/Revenue/EPS Growth"
         }
        },
        "yaxis2": {
         "overlaying": "y",
         "side": "right",
         "tickformat": ",.0%",
         "title": {
          "text": "Freecashflow Growth"
         }
        }
       }
      }
     },
     "metadata": {},
     "output_type": "display_data"
    }
   ],
   "source": [
    "# Plot line chart for fundamental Growth using graph_objects\n",
    "fig = go.Figure()\n",
    "\n",
    "# Add PriceGrowth trace\n",
    "fig.add_trace(go.Scatter(\n",
    "    x=results_tr.index.values, y=results_tr['PriceGrowth'],\n",
    "    name='PriceGrowth', yaxis='y'\n",
    "))\n",
    "\n",
    "# Add revenueGrowth trace\n",
    "fig.add_trace(go.Scatter(\n",
    "    x=results_tr.index.values, y=results_tr['revenueGrowth'],\n",
    "    name='revenueGrowth', yaxis='y'\n",
    "))\n",
    "\n",
    "# Add epsgrowth trace\n",
    "fig.add_trace(go.Scatter(\n",
    "    x=results_tr.index.values, y=results_tr['epsgrowth'],\n",
    "    name='epsgrowth', yaxis='y'\n",
    "))\n",
    "\n",
    "# Add freeCashFlowGrowth trace\n",
    "fig.add_trace(go.Scatter(\n",
    "    x=results_tr.index.values, y=results_tr['freeCashFlowGrowth'],\n",
    "    name='freeCashFlowGrowth', yaxis='y2'\n",
    "))\n",
    "\n",
    "# Update layout\n",
    "fig.update_layout(\n",
    "    title=ticker + ' stock Growth',\n",
    "    width=1000,\n",
    "    yaxis=dict(title='Price/Revenue/EPS Growth', tickformat = \",.0%\"),\n",
    "    yaxis2=dict(title='Freecashflow Growth', overlaying='y', side='right', tickformat = \",.0%\"),\n",
    "    legend=dict(x=0.78, y=1.32, traceorder='normal')\n",
    ")\n",
    "\n",
    "# Show the fig & export chart\n",
    "fig.show()\n",
    "fig.write_image(\"images/\" + ticker + \" fundamental growth chart.png\")"
   ]
  },
  {
   "attachments": {},
   "cell_type": "markdown",
   "metadata": {},
   "source": [
    "### Section 4: Compound Annual Growth Rate (CAGR) for Price, Revenue, EPS & Free Cash Flow"
   ]
  },
  {
   "cell_type": "code",
   "execution_count": 11,
   "metadata": {},
   "outputs": [],
   "source": [
    "# Calc Compound Annual Growth Rate (CAGR)\n",
    "def CAGR(first, last, periods):\n",
    "    result = 0\n",
    "    \n",
    "    if first > 0 and last > 0:\n",
    "        result = (last/first)**(1/periods)-1\n",
    "    elif first < 0 and last < 0:\n",
    "        result = -1 * ((abs(last)/abs(first))**(1/periods)-1)\n",
    "    elif first < 0 and last > 0:\n",
    "        result = ((last+2*abs(first))/abs(first))**(1/periods)-1\n",
    "    elif first > 0 and last < 0:\n",
    "        result = -1 * (((abs(last)+2*first)/first)**(1/periods)-1)\n",
    "        \n",
    "    return result\n",
    "\n",
    "# Get last not null column\n",
    "def earliest_col_notna(df,idx):\n",
    "    for col in reversed(df.columns):\n",
    "        if pd.notna(df.loc[idx][col]):\n",
    "            return df.columns.get_loc(col)\n",
    "        \n",
    "# Calc CAGR (5/10/All years) for growth related columns\n",
    "def calc_CAGR_for_col(df, idx):\n",
    "    earliest_year = earliest_col_notna(df, idx)\n",
    "    \n",
    "    five_yrs_CAGR = np.nan\n",
    "    ten_yrs_CAGR = np.nan\n",
    "    All_CAGR = np.nan\n",
    "    \n",
    "    if earliest_year < 6:\n",
    "        All_CAGR = CAGR(df.loc[idx][earliest_year], df.loc[idx][1], earliest_year-1)\n",
    "    elif earliest_year < 11:\n",
    "        five_yrs_CAGR = CAGR(df.loc[idx][6], df.loc[idx][1], 5)\n",
    "        All_CAGR = CAGR(df.loc[idx][earliest_year], df.loc[idx][1], earliest_year-1)\n",
    "    else:\n",
    "        five_yrs_CAGR = CAGR(df.loc[idx][6], df.loc[idx][1], 5)\n",
    "        ten_yrs_CAGR = CAGR(df.loc[idx][11], df.loc[idx][1], 10)\n",
    "        All_CAGR = CAGR(df.loc[idx][earliest_year], df.loc[idx][1], earliest_year-1)\n",
    "        \n",
    "    return [five_yrs_CAGR, ten_yrs_CAGR, All_CAGR]"
   ]
  },
  {
   "cell_type": "code",
   "execution_count": 12,
   "metadata": {},
   "outputs": [],
   "source": [
    "# Calc average returns from growth related columns\n",
    "returns_lists = []\n",
    "\n",
    "returns_lists.append(calc_CAGR_for_col(results,'Price'))\n",
    "returns_lists.append(calc_CAGR_for_col(results,'revenue'))\n",
    "returns_lists.append(calc_CAGR_for_col(results,'eps'))\n",
    "returns_lists.append(calc_CAGR_for_col(results,'freeCashFlow'))\n",
    "\n",
    "avg_returns = pd.DataFrame(returns_lists, \n",
    "             index=['PriceGrowth','revenueGrowth','epsgrowth','freeCashFlowGrowth'], \n",
    "             columns=['5 years Avg','10 years Avg','All years Avg'])"
   ]
  },
  {
   "cell_type": "code",
   "execution_count": 13,
   "metadata": {},
   "outputs": [
    {
     "data": {
      "application/vnd.plotly.v1+json": {
       "config": {
        "plotlyServerURL": "https://plot.ly"
       },
       "data": [
        {
         "name": "5 years Avg",
         "offsetgroup": "0",
         "type": "bar",
         "x": [
          "PriceGrowth",
          "revenueGrowth",
          "epsgrowth",
          "freeCashFlowGrowth"
         ],
         "y": [
          0.25157941720862786,
          0.11459147414899729,
          0.21528300941468048,
          0.17012615559667843
         ]
        },
        {
         "name": "10 years Avg",
         "offsetgroup": "1",
         "type": "bar",
         "x": [
          "PriceGrowth",
          "revenueGrowth",
          "epsgrowth",
          "freeCashFlowGrowth"
         ],
         "y": [
          0.21194163776778008,
          0.09681178306663218,
          0.14484791923822882,
          0.10394804611490693
         ]
        },
        {
         "name": "All years Avg",
         "offsetgroup": "2",
         "type": "bar",
         "x": [
          "PriceGrowth",
          "revenueGrowth",
          "epsgrowth",
          "freeCashFlowGrowth"
         ],
         "y": [
          0.17431052559793625,
          0.15481368375184568,
          0.21547949821563828,
          0.20045650123674608
         ]
        }
       ],
       "layout": {
        "barmode": "group",
        "template": {
         "data": {
          "bar": [
           {
            "error_x": {
             "color": "#2a3f5f"
            },
            "error_y": {
             "color": "#2a3f5f"
            },
            "marker": {
             "line": {
              "color": "#E5ECF6",
              "width": 0.5
             },
             "pattern": {
              "fillmode": "overlay",
              "size": 10,
              "solidity": 0.2
             }
            },
            "type": "bar"
           }
          ],
          "barpolar": [
           {
            "marker": {
             "line": {
              "color": "#E5ECF6",
              "width": 0.5
             },
             "pattern": {
              "fillmode": "overlay",
              "size": 10,
              "solidity": 0.2
             }
            },
            "type": "barpolar"
           }
          ],
          "carpet": [
           {
            "aaxis": {
             "endlinecolor": "#2a3f5f",
             "gridcolor": "white",
             "linecolor": "white",
             "minorgridcolor": "white",
             "startlinecolor": "#2a3f5f"
            },
            "baxis": {
             "endlinecolor": "#2a3f5f",
             "gridcolor": "white",
             "linecolor": "white",
             "minorgridcolor": "white",
             "startlinecolor": "#2a3f5f"
            },
            "type": "carpet"
           }
          ],
          "choropleth": [
           {
            "colorbar": {
             "outlinewidth": 0,
             "ticks": ""
            },
            "type": "choropleth"
           }
          ],
          "contour": [
           {
            "colorbar": {
             "outlinewidth": 0,
             "ticks": ""
            },
            "colorscale": [
             [
              0,
              "#0d0887"
             ],
             [
              0.1111111111111111,
              "#46039f"
             ],
             [
              0.2222222222222222,
              "#7201a8"
             ],
             [
              0.3333333333333333,
              "#9c179e"
             ],
             [
              0.4444444444444444,
              "#bd3786"
             ],
             [
              0.5555555555555556,
              "#d8576b"
             ],
             [
              0.6666666666666666,
              "#ed7953"
             ],
             [
              0.7777777777777778,
              "#fb9f3a"
             ],
             [
              0.8888888888888888,
              "#fdca26"
             ],
             [
              1,
              "#f0f921"
             ]
            ],
            "type": "contour"
           }
          ],
          "contourcarpet": [
           {
            "colorbar": {
             "outlinewidth": 0,
             "ticks": ""
            },
            "type": "contourcarpet"
           }
          ],
          "heatmap": [
           {
            "colorbar": {
             "outlinewidth": 0,
             "ticks": ""
            },
            "colorscale": [
             [
              0,
              "#0d0887"
             ],
             [
              0.1111111111111111,
              "#46039f"
             ],
             [
              0.2222222222222222,
              "#7201a8"
             ],
             [
              0.3333333333333333,
              "#9c179e"
             ],
             [
              0.4444444444444444,
              "#bd3786"
             ],
             [
              0.5555555555555556,
              "#d8576b"
             ],
             [
              0.6666666666666666,
              "#ed7953"
             ],
             [
              0.7777777777777778,
              "#fb9f3a"
             ],
             [
              0.8888888888888888,
              "#fdca26"
             ],
             [
              1,
              "#f0f921"
             ]
            ],
            "type": "heatmap"
           }
          ],
          "heatmapgl": [
           {
            "colorbar": {
             "outlinewidth": 0,
             "ticks": ""
            },
            "colorscale": [
             [
              0,
              "#0d0887"
             ],
             [
              0.1111111111111111,
              "#46039f"
             ],
             [
              0.2222222222222222,
              "#7201a8"
             ],
             [
              0.3333333333333333,
              "#9c179e"
             ],
             [
              0.4444444444444444,
              "#bd3786"
             ],
             [
              0.5555555555555556,
              "#d8576b"
             ],
             [
              0.6666666666666666,
              "#ed7953"
             ],
             [
              0.7777777777777778,
              "#fb9f3a"
             ],
             [
              0.8888888888888888,
              "#fdca26"
             ],
             [
              1,
              "#f0f921"
             ]
            ],
            "type": "heatmapgl"
           }
          ],
          "histogram": [
           {
            "marker": {
             "pattern": {
              "fillmode": "overlay",
              "size": 10,
              "solidity": 0.2
             }
            },
            "type": "histogram"
           }
          ],
          "histogram2d": [
           {
            "colorbar": {
             "outlinewidth": 0,
             "ticks": ""
            },
            "colorscale": [
             [
              0,
              "#0d0887"
             ],
             [
              0.1111111111111111,
              "#46039f"
             ],
             [
              0.2222222222222222,
              "#7201a8"
             ],
             [
              0.3333333333333333,
              "#9c179e"
             ],
             [
              0.4444444444444444,
              "#bd3786"
             ],
             [
              0.5555555555555556,
              "#d8576b"
             ],
             [
              0.6666666666666666,
              "#ed7953"
             ],
             [
              0.7777777777777778,
              "#fb9f3a"
             ],
             [
              0.8888888888888888,
              "#fdca26"
             ],
             [
              1,
              "#f0f921"
             ]
            ],
            "type": "histogram2d"
           }
          ],
          "histogram2dcontour": [
           {
            "colorbar": {
             "outlinewidth": 0,
             "ticks": ""
            },
            "colorscale": [
             [
              0,
              "#0d0887"
             ],
             [
              0.1111111111111111,
              "#46039f"
             ],
             [
              0.2222222222222222,
              "#7201a8"
             ],
             [
              0.3333333333333333,
              "#9c179e"
             ],
             [
              0.4444444444444444,
              "#bd3786"
             ],
             [
              0.5555555555555556,
              "#d8576b"
             ],
             [
              0.6666666666666666,
              "#ed7953"
             ],
             [
              0.7777777777777778,
              "#fb9f3a"
             ],
             [
              0.8888888888888888,
              "#fdca26"
             ],
             [
              1,
              "#f0f921"
             ]
            ],
            "type": "histogram2dcontour"
           }
          ],
          "mesh3d": [
           {
            "colorbar": {
             "outlinewidth": 0,
             "ticks": ""
            },
            "type": "mesh3d"
           }
          ],
          "parcoords": [
           {
            "line": {
             "colorbar": {
              "outlinewidth": 0,
              "ticks": ""
             }
            },
            "type": "parcoords"
           }
          ],
          "pie": [
           {
            "automargin": true,
            "type": "pie"
           }
          ],
          "scatter": [
           {
            "fillpattern": {
             "fillmode": "overlay",
             "size": 10,
             "solidity": 0.2
            },
            "type": "scatter"
           }
          ],
          "scatter3d": [
           {
            "line": {
             "colorbar": {
              "outlinewidth": 0,
              "ticks": ""
             }
            },
            "marker": {
             "colorbar": {
              "outlinewidth": 0,
              "ticks": ""
             }
            },
            "type": "scatter3d"
           }
          ],
          "scattercarpet": [
           {
            "marker": {
             "colorbar": {
              "outlinewidth": 0,
              "ticks": ""
             }
            },
            "type": "scattercarpet"
           }
          ],
          "scattergeo": [
           {
            "marker": {
             "colorbar": {
              "outlinewidth": 0,
              "ticks": ""
             }
            },
            "type": "scattergeo"
           }
          ],
          "scattergl": [
           {
            "marker": {
             "colorbar": {
              "outlinewidth": 0,
              "ticks": ""
             }
            },
            "type": "scattergl"
           }
          ],
          "scattermapbox": [
           {
            "marker": {
             "colorbar": {
              "outlinewidth": 0,
              "ticks": ""
             }
            },
            "type": "scattermapbox"
           }
          ],
          "scatterpolar": [
           {
            "marker": {
             "colorbar": {
              "outlinewidth": 0,
              "ticks": ""
             }
            },
            "type": "scatterpolar"
           }
          ],
          "scatterpolargl": [
           {
            "marker": {
             "colorbar": {
              "outlinewidth": 0,
              "ticks": ""
             }
            },
            "type": "scatterpolargl"
           }
          ],
          "scatterternary": [
           {
            "marker": {
             "colorbar": {
              "outlinewidth": 0,
              "ticks": ""
             }
            },
            "type": "scatterternary"
           }
          ],
          "surface": [
           {
            "colorbar": {
             "outlinewidth": 0,
             "ticks": ""
            },
            "colorscale": [
             [
              0,
              "#0d0887"
             ],
             [
              0.1111111111111111,
              "#46039f"
             ],
             [
              0.2222222222222222,
              "#7201a8"
             ],
             [
              0.3333333333333333,
              "#9c179e"
             ],
             [
              0.4444444444444444,
              "#bd3786"
             ],
             [
              0.5555555555555556,
              "#d8576b"
             ],
             [
              0.6666666666666666,
              "#ed7953"
             ],
             [
              0.7777777777777778,
              "#fb9f3a"
             ],
             [
              0.8888888888888888,
              "#fdca26"
             ],
             [
              1,
              "#f0f921"
             ]
            ],
            "type": "surface"
           }
          ],
          "table": [
           {
            "cells": {
             "fill": {
              "color": "#EBF0F8"
             },
             "line": {
              "color": "white"
             }
            },
            "header": {
             "fill": {
              "color": "#C8D4E3"
             },
             "line": {
              "color": "white"
             }
            },
            "type": "table"
           }
          ]
         },
         "layout": {
          "annotationdefaults": {
           "arrowcolor": "#2a3f5f",
           "arrowhead": 0,
           "arrowwidth": 1
          },
          "autotypenumbers": "strict",
          "coloraxis": {
           "colorbar": {
            "outlinewidth": 0,
            "ticks": ""
           }
          },
          "colorscale": {
           "diverging": [
            [
             0,
             "#8e0152"
            ],
            [
             0.1,
             "#c51b7d"
            ],
            [
             0.2,
             "#de77ae"
            ],
            [
             0.3,
             "#f1b6da"
            ],
            [
             0.4,
             "#fde0ef"
            ],
            [
             0.5,
             "#f7f7f7"
            ],
            [
             0.6,
             "#e6f5d0"
            ],
            [
             0.7,
             "#b8e186"
            ],
            [
             0.8,
             "#7fbc41"
            ],
            [
             0.9,
             "#4d9221"
            ],
            [
             1,
             "#276419"
            ]
           ],
           "sequential": [
            [
             0,
             "#0d0887"
            ],
            [
             0.1111111111111111,
             "#46039f"
            ],
            [
             0.2222222222222222,
             "#7201a8"
            ],
            [
             0.3333333333333333,
             "#9c179e"
            ],
            [
             0.4444444444444444,
             "#bd3786"
            ],
            [
             0.5555555555555556,
             "#d8576b"
            ],
            [
             0.6666666666666666,
             "#ed7953"
            ],
            [
             0.7777777777777778,
             "#fb9f3a"
            ],
            [
             0.8888888888888888,
             "#fdca26"
            ],
            [
             1,
             "#f0f921"
            ]
           ],
           "sequentialminus": [
            [
             0,
             "#0d0887"
            ],
            [
             0.1111111111111111,
             "#46039f"
            ],
            [
             0.2222222222222222,
             "#7201a8"
            ],
            [
             0.3333333333333333,
             "#9c179e"
            ],
            [
             0.4444444444444444,
             "#bd3786"
            ],
            [
             0.5555555555555556,
             "#d8576b"
            ],
            [
             0.6666666666666666,
             "#ed7953"
            ],
            [
             0.7777777777777778,
             "#fb9f3a"
            ],
            [
             0.8888888888888888,
             "#fdca26"
            ],
            [
             1,
             "#f0f921"
            ]
           ]
          },
          "colorway": [
           "#636efa",
           "#EF553B",
           "#00cc96",
           "#ab63fa",
           "#FFA15A",
           "#19d3f3",
           "#FF6692",
           "#B6E880",
           "#FF97FF",
           "#FECB52"
          ],
          "font": {
           "color": "#2a3f5f"
          },
          "geo": {
           "bgcolor": "white",
           "lakecolor": "white",
           "landcolor": "#E5ECF6",
           "showlakes": true,
           "showland": true,
           "subunitcolor": "white"
          },
          "hoverlabel": {
           "align": "left"
          },
          "hovermode": "closest",
          "mapbox": {
           "style": "light"
          },
          "paper_bgcolor": "white",
          "plot_bgcolor": "#E5ECF6",
          "polar": {
           "angularaxis": {
            "gridcolor": "white",
            "linecolor": "white",
            "ticks": ""
           },
           "bgcolor": "#E5ECF6",
           "radialaxis": {
            "gridcolor": "white",
            "linecolor": "white",
            "ticks": ""
           }
          },
          "scene": {
           "xaxis": {
            "backgroundcolor": "#E5ECF6",
            "gridcolor": "white",
            "gridwidth": 2,
            "linecolor": "white",
            "showbackground": true,
            "ticks": "",
            "zerolinecolor": "white"
           },
           "yaxis": {
            "backgroundcolor": "#E5ECF6",
            "gridcolor": "white",
            "gridwidth": 2,
            "linecolor": "white",
            "showbackground": true,
            "ticks": "",
            "zerolinecolor": "white"
           },
           "zaxis": {
            "backgroundcolor": "#E5ECF6",
            "gridcolor": "white",
            "gridwidth": 2,
            "linecolor": "white",
            "showbackground": true,
            "ticks": "",
            "zerolinecolor": "white"
           }
          },
          "shapedefaults": {
           "line": {
            "color": "#2a3f5f"
           }
          },
          "ternary": {
           "aaxis": {
            "gridcolor": "white",
            "linecolor": "white",
            "ticks": ""
           },
           "baxis": {
            "gridcolor": "white",
            "linecolor": "white",
            "ticks": ""
           },
           "bgcolor": "#E5ECF6",
           "caxis": {
            "gridcolor": "white",
            "linecolor": "white",
            "ticks": ""
           }
          },
          "title": {
           "x": 0.05
          },
          "xaxis": {
           "automargin": true,
           "gridcolor": "white",
           "linecolor": "white",
           "ticks": "",
           "title": {
            "standoff": 15
           },
           "zerolinecolor": "white",
           "zerolinewidth": 2
          },
          "yaxis": {
           "automargin": true,
           "gridcolor": "white",
           "linecolor": "white",
           "ticks": "",
           "title": {
            "standoff": 15
           },
           "zerolinecolor": "white",
           "zerolinewidth": 2
          }
         }
        },
        "title": {
         "text": "AAPL Compound Annual Growth Rate (CAGR)"
        },
        "width": 800,
        "yaxis": {
         "tickformat": ",.0%",
         "title": {
          "text": "Annual Growth"
         }
        }
       }
      }
     },
     "metadata": {},
     "output_type": "display_data"
    }
   ],
   "source": [
    "# Create the figure\n",
    "fig = go.Figure()\n",
    "\n",
    "for i, column in enumerate(avg_returns.columns):\n",
    "    fig.add_trace(go.Bar(\n",
    "        x=avg_returns.index.values,\n",
    "        y=avg_returns[column],\n",
    "        name=column,\n",
    "        offsetgroup=i,\n",
    "        # marker_color=f\"rgba({(i*70)%256},{(i*120)%256},{(i*200)%256},0.6)\"  # Custom color for each bar\n",
    "    ))\n",
    "\n",
    "# Update the layout\n",
    "fig.update_layout(\n",
    "    title=ticker + ' Compound Annual Growth Rate (CAGR)',\n",
    "    yaxis=dict(title='Annual Growth', tickformat = \",.0%\"),\n",
    "    barmode='group', width=800\n",
    ")\n",
    "\n",
    "# Show the figure & export chart\n",
    "fig.show()\n",
    "fig.write_image(\"images/\" + ticker + \" Compound Annual Growth Rate.png\")"
   ]
  },
  {
   "attachments": {},
   "cell_type": "markdown",
   "metadata": {},
   "source": [
    "### Last section: Put all data together and save to excel"
   ]
  },
  {
   "cell_type": "code",
   "execution_count": 284,
   "metadata": {},
   "outputs": [],
   "source": [
    "# Final Formatting\n",
    "avg_returns['5 years Avg'] = avg_returns['5 years Avg'].apply(lambda x: str(x) if pd.isna(x) else f\"{x:.2%}\")\n",
    "avg_returns['10 years Avg'] = avg_returns['10 years Avg'].apply(lambda x: str(x) if pd.isna(x) else f\"{x:.2%}\")\n",
    "avg_returns['All years Avg'] = avg_returns['All years Avg'].apply(lambda x: str(x) if pd.isna(x) else f\"{x:.2%}\")\n",
    "\n",
    "# Set report section titles\n",
    "results.name = ticker + ' Financial data'\n",
    "avg_returns.name = ticker + ' Compound Annual Growth Rate (CAGR)'\n",
    "\n",
    "dataframes = (results, avg_returns)\n",
    "write_dataframes_to_excel(dataframes, \n",
    "                          'data\\Stock fundamental analysis - '+ ticker + ' ' + date.today().strftime(\"%Y-%m\"), \n",
    "                          ticker)"
   ]
  }
 ],
 "metadata": {
  "kernelspec": {
   "display_name": "Python 3",
   "language": "python",
   "name": "python3"
  },
  "language_info": {
   "codemirror_mode": {
    "name": "ipython",
    "version": 3
   },
   "file_extension": ".py",
   "mimetype": "text/x-python",
   "name": "python",
   "nbconvert_exporter": "python",
   "pygments_lexer": "ipython3",
   "version": "3.8.16"
  }
 },
 "nbformat": 4,
 "nbformat_minor": 4
}
